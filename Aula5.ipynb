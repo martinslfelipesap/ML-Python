{
  "nbformat": 4,
  "nbformat_minor": 0,
  "metadata": {
    "colab": {
      "name": "Aula5.ipynb",
      "provenance": [],
      "authorship_tag": "ABX9TyMEfifsBZB6vvfpnegZ81cw",
      "include_colab_link": true
    },
    "kernelspec": {
      "name": "python3",
      "display_name": "Python 3"
    }
  },
  "cells": [
    {
      "cell_type": "markdown",
      "metadata": {
        "id": "view-in-github",
        "colab_type": "text"
      },
      "source": [
        "<a href=\"https://colab.research.google.com/github/lcbjuk/ML/blob/master/Aula5.ipynb\" target=\"_parent\"><img src=\"https://colab.research.google.com/assets/colab-badge.svg\" alt=\"Open In Colab\"/></a>"
      ]
    },
    {
      "cell_type": "code",
      "metadata": {
        "id": "GDPHJVqrqXFc",
        "colab_type": "code",
        "outputId": "d36332a1-d916-47d1-8634-8da5acbb7f55",
        "colab": {
          "base_uri": "https://localhost:8080/",
          "height": 122
        }
      },
      "source": [
        "from google.colab import drive\n",
        "#drive.mount('/content/drive')"
      ],
      "execution_count": 0,
      "outputs": [
        {
          "output_type": "stream",
          "text": [
            "Go to this URL in a browser: https://accounts.google.com/o/oauth2/auth?client_id=947318989803-6bn6qk8qdgf4n4g3pfee6491hc0brc4i.apps.googleusercontent.com&redirect_uri=urn%3aietf%3awg%3aoauth%3a2.0%3aoob&response_type=code&scope=email%20https%3a%2f%2fwww.googleapis.com%2fauth%2fdocs.test%20https%3a%2f%2fwww.googleapis.com%2fauth%2fdrive%20https%3a%2f%2fwww.googleapis.com%2fauth%2fdrive.photos.readonly%20https%3a%2f%2fwww.googleapis.com%2fauth%2fpeopleapi.readonly\n",
            "\n",
            "Enter your authorization code:\n",
            "··········\n",
            "Mounted at /content/drive\n"
          ],
          "name": "stdout"
        }
      ]
    },
    {
      "cell_type": "code",
      "metadata": {
        "id": "2QR0JgYRqsLN",
        "colab_type": "code",
        "colab": {}
      },
      "source": [
        "import pandas as pd\n",
        "sal_poup = pd.read_csv('https://raw.githubusercontent.com/lcbjuk/ML/master/dados/salario_conta%20-%20ok.csv')\n",
        "sal_poup"
      ],
      "execution_count": 0,
      "outputs": []
    },
    {
      "cell_type": "code",
      "metadata": {
        "id": "HUcE7dWzrXaa",
        "colab_type": "code",
        "colab": {}
      },
      "source": [
        "from sklearn.cluster import KMeans\n",
        "\n",
        "k = KMeans(n_clusters=5)\n",
        "k.fit(sal_poup)"
      ],
      "execution_count": 0,
      "outputs": []
    },
    {
      "cell_type": "code",
      "metadata": {
        "id": "PjEDHn5BsDqo",
        "colab_type": "code",
        "colab": {}
      },
      "source": [
        "import seaborn as sns\n",
        "sns.scatterplot(sal_poup['salario'], sal_poup['saldo'] , hue=k.labels_,palette=sns.color_palette('Set1',5))\n"
      ],
      "execution_count": 0,
      "outputs": []
    },
    {
      "cell_type": "markdown",
      "metadata": {
        "id": "F-AePn0-thhM",
        "colab_type": "text"
      },
      "source": [
        "**Facam pf entao o KMeans p Jogar Volei!**"
      ]
    },
    {
      "cell_type": "code",
      "metadata": {
        "id": "EKrX69NUtoNQ",
        "colab_type": "code",
        "colab": {}
      },
      "source": [
        "#'previsao\ttemperatura\tumidade\tvento\tjogar\n",
        "volei = pd.read_csv('https://raw.githubusercontent.com/lcbjuk/ML/master/dados/volei%20-%20ok.csv')\n",
        "k = KMeans(n_clusters=2)\n",
        "k.fit(volei)\n",
        "\n",
        "sns.scatterplot(volei['temperatura'], volei['previsao'], hue=k.labels_)"
      ],
      "execution_count": 0,
      "outputs": []
    },
    {
      "cell_type": "markdown",
      "metadata": {
        "id": "Xb2wYswuvreD",
        "colab_type": "text"
      },
      "source": [
        "**Exercicio - KMeans**"
      ]
    },
    {
      "cell_type": "code",
      "metadata": {
        "id": "dUGZB5kWvrkc",
        "colab_type": "code",
        "outputId": "08bc5ba3-1e2c-4cef-af77-326c25c36220",
        "colab": {
          "base_uri": "https://localhost:8080/",
          "height": 296
        }
      },
      "source": [
        "credito = pd.read_csv('https://raw.githubusercontent.com/lcbjuk/ML/master/dados/RiscoCredito%20-%20sem_classe.csv')\n",
        "k = KMeans(n_clusters=2)\n",
        "k.fit(credito)\n",
        "\n",
        "sns.scatterplot(credito['Profissao'],credito['Renda'], hue=k.labels_)"
      ],
      "execution_count": 0,
      "outputs": [
        {
          "output_type": "execute_result",
          "data": {
            "text/plain": [
              "<matplotlib.axes._subplots.AxesSubplot at 0x7fed41eac160>"
            ]
          },
          "metadata": {
            "tags": []
          },
          "execution_count": 16
        },
        {
          "output_type": "display_data",
          "data": {
            "image/png": "[encoded data removed]",
            "text/plain": [
              "<Figure size 432x288 with 1 Axes>"
            ]
          },
          "metadata": {
            "tags": []
          }
        }
      ]
    },
    {
      "cell_type": "code",
      "metadata": {
        "id": "DkE1xtjDEUqw",
        "colab_type": "code",
        "colab": {}
      },
      "source": [
        ""
      ],
      "execution_count": 0,
      "outputs": []
    },
    {
      "cell_type": "markdown",
      "metadata": {
        "id": "HaLkBiVV5uiI",
        "colab_type": "text"
      },
      "source": [
        "**Redes Neurais**"
      ]
    },
    {
      "cell_type": "code",
      "metadata": {
        "id": "vild6Z7Q5wZr",
        "colab_type": "code",
        "colab": {}
      },
      "source": [
        "import pandas as pd\n",
        "treino = pd.read_csv('https://raw.githubusercontent.com/lcbjuk/ML/master/dados/volei%20-%20ok.csv')\n",
        "teste  = pd.read_csv('https://raw.githubusercontent.com/lcbjuk/ML/master/dados/volei%20-%20prd.csv')\n",
        "\n",
        "import tensorflow\n",
        "from tensorflow import keras\n",
        "rn = keras.Sequential([\n",
        "  keras.layers.Input(len(treino.columns)-1),\n",
        "  keras.layers.Dense(3, 'relu'),\n",
        "  keras.layers.Dense(2, 'relu'),\n",
        "  keras.layers.Dense(1, 'sigmoid')\n",
        "])\n",
        "rn.compile(optimizer='adam' , loss='binary_crossentropy')\n",
        "rn.fit(treino[['previsao','temperatura','umidade','vento']] , treino['jogar'])\n",
        "previsoes = rn.predict(teste[['previsao','temperatura','umidade','vento']]) \n",
        "previsoes"
      ],
      "execution_count": 0,
      "outputs": []
    },
    {
      "cell_type": "code",
      "metadata": {
        "id": "l-txhOOm8AeZ",
        "colab_type": "code",
        "colab": {}
      },
      "source": [
        "def ativacao(v):\n",
        "  limiar = 0.05\n",
        "  if (v > limiar):\n",
        "    return 1\n",
        "  else:\n",
        "    return 0\n",
        "\n",
        "for previsao in previsoes:\n",
        "  print(ativacao(previsao))\n",
        "\n"
      ],
      "execution_count": 0,
      "outputs": []
    },
    {
      "cell_type": "markdown",
      "metadata": {
        "id": "2AtiTmJoEB_5",
        "colab_type": "text"
      },
      "source": [
        "**Exercicio Rede Neural**"
      ]
    },
    {
      "cell_type": "code",
      "metadata": {
        "id": "_ohPzaDmEGiO",
        "colab_type": "code",
        "outputId": "8e6da4dd-6971-4788-ffce-ef419f1a3b34",
        "colab": {
          "base_uri": "https://localhost:8080/",
          "height": 187
        }
      },
      "source": [
        "treino = pd.read_csv('https://raw.githubusercontent.com/lcbjuk/ML/master/dados/RiscoCredito%20-%20okk.csv')\n",
        "teste  = pd.read_csv('https://raw.githubusercontent.com/lcbjuk/ML/master/dados/RiscoCredito%20-%20prever.csv')\n",
        "\n",
        " \n",
        "nn= keras.Sequential([\n",
        "      keras.layers.Input(len(treino.columns)-1),\n",
        "      keras.layers.Dense(3,'relu'),\n",
        "      keras.layers.Dense(2,'relu'),\n",
        "      keras.layers.Dense(2,'relu'),\n",
        "      keras.layers.Dense(1,'sigmoid'),\n",
        "])\n",
        "\n",
        "nn.compile(optimizer='adam' , loss='binary_crossentropy')\n",
        "nn.fit(treino[['Genero'\t,'GrauEscolaridade','Profissao','Renda']] , treino['Inadimplente'])\n",
        "previsoes = nn.predict(teste)\n",
        "previsoes"
      ],
      "execution_count": 0,
      "outputs": [
        {
          "output_type": "stream",
          "text": [
            "Train on 100 samples\n",
            "100/100 [==============================] - 0s 4ms/sample - loss: 0.9373\n"
          ],
          "name": "stdout"
        },
        {
          "output_type": "execute_result",
          "data": {
            "text/plain": [
              "array([[0.49992013],\n",
              "       [0.57897586],\n",
              "       [0.6784872 ],\n",
              "       [0.6426147 ],\n",
              "       [0.61545396],\n",
              "       [0.54995334],\n",
              "       [0.5065897 ],\n",
              "       [0.49992013]], dtype=float32)"
            ]
          },
          "metadata": {
            "tags": []
          },
          "execution_count": 33
        }
      ]
    },
    {
      "cell_type": "code",
      "metadata": {
        "id": "wP6Vqy2iFl9Q",
        "colab_type": "code",
        "outputId": "52f3356b-3b66-4781-9c2f-48d27d2018c5",
        "colab": {
          "base_uri": "https://localhost:8080/",
          "height": 153
        }
      },
      "source": [
        "def ativacao(v):\n",
        "  limiar = 0.51\n",
        "  if (v > limiar):\n",
        "    return 1\n",
        "  else:\n",
        "    return 0\n",
        "\n",
        "for previsao in previsoes:\n",
        "  print(ativacao(previsao))\n"
      ],
      "execution_count": 0,
      "outputs": [
        {
          "output_type": "stream",
          "text": [
            "0\n",
            "1\n",
            "1\n",
            "1\n",
            "1\n",
            "1\n",
            "0\n",
            "0\n"
          ],
          "name": "stdout"
        }
      ]
    }
  ]
}